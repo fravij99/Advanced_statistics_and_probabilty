{
 "cells": [
  {
   "cell_type": "code",
   "execution_count": 4,
   "id": "d0eb27c1",
   "metadata": {},
   "outputs": [],
   "source": [
    "%matplotlib inline\n",
    "import pandas as pd\n",
    "import numpy as np\n",
    "import scipy.stats \n",
    "import seaborn as sns\n",
    "import matplotlib.pylab as plt\n",
    "\n",
    "strength= pd.read_csv(\"https://github.com/SZapperi/CorsoProbabilitaStatistica/raw/master/data/Strength_ceramic.dat\", sep=\"\\s+\",skiprows=48)\n",
    "strength=strength.drop([0])\n"
   ]
  },
  {
   "cell_type": "code",
   "execution_count": 7,
   "id": "aa62a3dd",
   "metadata": {},
   "outputs": [
    {
     "data": {
      "text/html": [
       "<div>\n",
       "<style scoped>\n",
       "    .dataframe tbody tr th:only-of-type {\n",
       "        vertical-align: middle;\n",
       "    }\n",
       "\n",
       "    .dataframe tbody tr th {\n",
       "        vertical-align: top;\n",
       "    }\n",
       "\n",
       "    .dataframe thead th {\n",
       "        text-align: right;\n",
       "    }\n",
       "</style>\n",
       "<table border=\"1\" class=\"dataframe\">\n",
       "  <thead>\n",
       "    <tr style=\"text-align: right;\">\n",
       "      <th></th>\n",
       "      <th>Id</th>\n",
       "      <th>Lab</th>\n",
       "      <th>Num</th>\n",
       "      <th>Test</th>\n",
       "      <th>Y</th>\n",
       "      <th>X1</th>\n",
       "      <th>X2</th>\n",
       "      <th>X3</th>\n",
       "      <th>X4</th>\n",
       "      <th>Trt</th>\n",
       "      <th>Set</th>\n",
       "      <th>Llab</th>\n",
       "      <th>Rep</th>\n",
       "      <th>Bat</th>\n",
       "      <th>Sblab</th>\n",
       "      <th>Set2</th>\n",
       "    </tr>\n",
       "  </thead>\n",
       "  <tbody>\n",
       "    <tr>\n",
       "      <th>1</th>\n",
       "      <td>1</td>\n",
       "      <td>1.0</td>\n",
       "      <td>1.0</td>\n",
       "      <td>1.0</td>\n",
       "      <td>608.781</td>\n",
       "      <td>-1.0</td>\n",
       "      <td>-1.0</td>\n",
       "      <td>-1.0</td>\n",
       "      <td>-1.0</td>\n",
       "      <td>1.0</td>\n",
       "      <td>1.0</td>\n",
       "      <td>0.75</td>\n",
       "      <td>1.0</td>\n",
       "      <td>1.0</td>\n",
       "      <td>0.50</td>\n",
       "      <td>1.0</td>\n",
       "    </tr>\n",
       "    <tr>\n",
       "      <th>2</th>\n",
       "      <td>2</td>\n",
       "      <td>1.0</td>\n",
       "      <td>2.0</td>\n",
       "      <td>1.0</td>\n",
       "      <td>569.670</td>\n",
       "      <td>-1.0</td>\n",
       "      <td>-1.0</td>\n",
       "      <td>-1.0</td>\n",
       "      <td>-1.0</td>\n",
       "      <td>1.0</td>\n",
       "      <td>1.0</td>\n",
       "      <td>0.75</td>\n",
       "      <td>1.0</td>\n",
       "      <td>2.0</td>\n",
       "      <td>0.75</td>\n",
       "      <td>1.0</td>\n",
       "    </tr>\n",
       "    <tr>\n",
       "      <th>3</th>\n",
       "      <td>3</td>\n",
       "      <td>1.0</td>\n",
       "      <td>3.0</td>\n",
       "      <td>1.0</td>\n",
       "      <td>689.556</td>\n",
       "      <td>-1.0</td>\n",
       "      <td>-1.0</td>\n",
       "      <td>-1.0</td>\n",
       "      <td>-1.0</td>\n",
       "      <td>1.0</td>\n",
       "      <td>1.0</td>\n",
       "      <td>0.75</td>\n",
       "      <td>1.0</td>\n",
       "      <td>1.0</td>\n",
       "      <td>0.50</td>\n",
       "      <td>1.0</td>\n",
       "    </tr>\n",
       "    <tr>\n",
       "      <th>4</th>\n",
       "      <td>4</td>\n",
       "      <td>1.0</td>\n",
       "      <td>4.0</td>\n",
       "      <td>1.0</td>\n",
       "      <td>747.541</td>\n",
       "      <td>-1.0</td>\n",
       "      <td>-1.0</td>\n",
       "      <td>-1.0</td>\n",
       "      <td>-1.0</td>\n",
       "      <td>1.0</td>\n",
       "      <td>1.0</td>\n",
       "      <td>0.75</td>\n",
       "      <td>1.0</td>\n",
       "      <td>2.0</td>\n",
       "      <td>0.75</td>\n",
       "      <td>1.0</td>\n",
       "    </tr>\n",
       "    <tr>\n",
       "      <th>5</th>\n",
       "      <td>5</td>\n",
       "      <td>1.0</td>\n",
       "      <td>5.0</td>\n",
       "      <td>1.0</td>\n",
       "      <td>618.134</td>\n",
       "      <td>-1.0</td>\n",
       "      <td>-1.0</td>\n",
       "      <td>-1.0</td>\n",
       "      <td>-1.0</td>\n",
       "      <td>1.0</td>\n",
       "      <td>1.0</td>\n",
       "      <td>0.75</td>\n",
       "      <td>1.0</td>\n",
       "      <td>1.0</td>\n",
       "      <td>0.50</td>\n",
       "      <td>1.0</td>\n",
       "    </tr>\n",
       "    <tr>\n",
       "      <th>...</th>\n",
       "      <td>...</td>\n",
       "      <td>...</td>\n",
       "      <td>...</td>\n",
       "      <td>...</td>\n",
       "      <td>...</td>\n",
       "      <td>...</td>\n",
       "      <td>...</td>\n",
       "      <td>...</td>\n",
       "      <td>...</td>\n",
       "      <td>...</td>\n",
       "      <td>...</td>\n",
       "      <td>...</td>\n",
       "      <td>...</td>\n",
       "      <td>...</td>\n",
       "      <td>...</td>\n",
       "      <td>...</td>\n",
       "    </tr>\n",
       "    <tr>\n",
       "      <th>476</th>\n",
       "      <td>956</td>\n",
       "      <td>8.0</td>\n",
       "      <td>26.0</td>\n",
       "      <td>4.0</td>\n",
       "      <td>698.254</td>\n",
       "      <td>1.0</td>\n",
       "      <td>-1.0</td>\n",
       "      <td>-1.0</td>\n",
       "      <td>-1.0</td>\n",
       "      <td>2.0</td>\n",
       "      <td>2.0</td>\n",
       "      <td>8.25</td>\n",
       "      <td>2.0</td>\n",
       "      <td>2.0</td>\n",
       "      <td>8.50</td>\n",
       "      <td>32.0</td>\n",
       "    </tr>\n",
       "    <tr>\n",
       "      <th>477</th>\n",
       "      <td>957</td>\n",
       "      <td>8.0</td>\n",
       "      <td>27.0</td>\n",
       "      <td>4.0</td>\n",
       "      <td>611.999</td>\n",
       "      <td>1.0</td>\n",
       "      <td>-1.0</td>\n",
       "      <td>-1.0</td>\n",
       "      <td>-1.0</td>\n",
       "      <td>2.0</td>\n",
       "      <td>2.0</td>\n",
       "      <td>8.25</td>\n",
       "      <td>2.0</td>\n",
       "      <td>1.0</td>\n",
       "      <td>8.25</td>\n",
       "      <td>32.0</td>\n",
       "    </tr>\n",
       "    <tr>\n",
       "      <th>478</th>\n",
       "      <td>958</td>\n",
       "      <td>8.0</td>\n",
       "      <td>28.0</td>\n",
       "      <td>4.0</td>\n",
       "      <td>748.130</td>\n",
       "      <td>1.0</td>\n",
       "      <td>-1.0</td>\n",
       "      <td>-1.0</td>\n",
       "      <td>-1.0</td>\n",
       "      <td>2.0</td>\n",
       "      <td>2.0</td>\n",
       "      <td>8.25</td>\n",
       "      <td>2.0</td>\n",
       "      <td>2.0</td>\n",
       "      <td>8.50</td>\n",
       "      <td>32.0</td>\n",
       "    </tr>\n",
       "    <tr>\n",
       "      <th>479</th>\n",
       "      <td>959</td>\n",
       "      <td>8.0</td>\n",
       "      <td>29.0</td>\n",
       "      <td>4.0</td>\n",
       "      <td>530.680</td>\n",
       "      <td>1.0</td>\n",
       "      <td>-1.0</td>\n",
       "      <td>-1.0</td>\n",
       "      <td>-1.0</td>\n",
       "      <td>2.0</td>\n",
       "      <td>2.0</td>\n",
       "      <td>8.25</td>\n",
       "      <td>2.0</td>\n",
       "      <td>1.0</td>\n",
       "      <td>8.25</td>\n",
       "      <td>32.0</td>\n",
       "    </tr>\n",
       "    <tr>\n",
       "      <th>480</th>\n",
       "      <td>960</td>\n",
       "      <td>8.0</td>\n",
       "      <td>30.0</td>\n",
       "      <td>4.0</td>\n",
       "      <td>689.942</td>\n",
       "      <td>1.0</td>\n",
       "      <td>-1.0</td>\n",
       "      <td>-1.0</td>\n",
       "      <td>-1.0</td>\n",
       "      <td>2.0</td>\n",
       "      <td>2.0</td>\n",
       "      <td>8.25</td>\n",
       "      <td>2.0</td>\n",
       "      <td>2.0</td>\n",
       "      <td>8.50</td>\n",
       "      <td>32.0</td>\n",
       "    </tr>\n",
       "  </tbody>\n",
       "</table>\n",
       "<p>480 rows × 16 columns</p>\n",
       "</div>"
      ],
      "text/plain": [
       "      Id  Lab   Num  Test        Y   X1   X2   X3   X4  Trt  Set  Llab  Rep  \\\n",
       "1      1  1.0   1.0   1.0  608.781 -1.0 -1.0 -1.0 -1.0  1.0  1.0  0.75  1.0   \n",
       "2      2  1.0   2.0   1.0  569.670 -1.0 -1.0 -1.0 -1.0  1.0  1.0  0.75  1.0   \n",
       "3      3  1.0   3.0   1.0  689.556 -1.0 -1.0 -1.0 -1.0  1.0  1.0  0.75  1.0   \n",
       "4      4  1.0   4.0   1.0  747.541 -1.0 -1.0 -1.0 -1.0  1.0  1.0  0.75  1.0   \n",
       "5      5  1.0   5.0   1.0  618.134 -1.0 -1.0 -1.0 -1.0  1.0  1.0  0.75  1.0   \n",
       "..   ...  ...   ...   ...      ...  ...  ...  ...  ...  ...  ...   ...  ...   \n",
       "476  956  8.0  26.0   4.0  698.254  1.0 -1.0 -1.0 -1.0  2.0  2.0  8.25  2.0   \n",
       "477  957  8.0  27.0   4.0  611.999  1.0 -1.0 -1.0 -1.0  2.0  2.0  8.25  2.0   \n",
       "478  958  8.0  28.0   4.0  748.130  1.0 -1.0 -1.0 -1.0  2.0  2.0  8.25  2.0   \n",
       "479  959  8.0  29.0   4.0  530.680  1.0 -1.0 -1.0 -1.0  2.0  2.0  8.25  2.0   \n",
       "480  960  8.0  30.0   4.0  689.942  1.0 -1.0 -1.0 -1.0  2.0  2.0  8.25  2.0   \n",
       "\n",
       "     Bat  Sblab  Set2  \n",
       "1    1.0   0.50   1.0  \n",
       "2    2.0   0.75   1.0  \n",
       "3    1.0   0.50   1.0  \n",
       "4    2.0   0.75   1.0  \n",
       "5    1.0   0.50   1.0  \n",
       "..   ...    ...   ...  \n",
       "476  2.0   8.50  32.0  \n",
       "477  1.0   8.25  32.0  \n",
       "478  2.0   8.50  32.0  \n",
       "479  1.0   8.25  32.0  \n",
       "480  2.0   8.50  32.0  \n",
       "\n",
       "[480 rows x 16 columns]"
      ]
     },
     "execution_count": 7,
     "metadata": {},
     "output_type": "execute_result"
    }
   ],
   "source": [
    "strength\n",
    "    \n"
   ]
  },
  {
   "cell_type": "code",
   "execution_count": 15,
   "id": "1449192b",
   "metadata": {},
   "outputs": [
    {
     "data": {
      "text/plain": [
       "(642.6228083333333, 657.5318083333331)"
      ]
     },
     "execution_count": 15,
     "metadata": {},
     "output_type": "execute_result"
    }
   ],
   "source": [
    "set1=strength[strength[\"X1\"]==1.].Y\n",
    "set2=strength[strength[\"X1\"]==-1.].Y\n",
    "\n",
    "set1.mean(), set2.mean()\n"
   ]
  },
  {
   "cell_type": "code",
   "execution_count": 16,
   "id": "214427e7",
   "metadata": {},
   "outputs": [
    {
     "data": {
      "text/plain": [
       "(72.83971637319247, 75.81437839394435)"
      ]
     },
     "execution_count": 16,
     "metadata": {},
     "output_type": "execute_result"
    }
   ],
   "source": [
    "set1.std(), set2.std()\n"
   ]
  },
  {
   "cell_type": "code",
   "execution_count": 17,
   "id": "6af2e819",
   "metadata": {},
   "outputs": [
    {
     "data": {
      "text/plain": [
       "Ttest_indResult(statistic=-2.196874880001813, pvalue=0.02850866118896449)"
      ]
     },
     "execution_count": 17,
     "metadata": {},
     "output_type": "execute_result"
    }
   ],
   "source": [
    "scipy.stats.ttest_ind(set1, set2)\n"
   ]
  },
  {
   "cell_type": "code",
   "execution_count": 14,
   "id": "02f27232",
   "metadata": {},
   "outputs": [
    {
     "data": {
      "text/plain": [
       "75.81437839394435"
      ]
     },
     "execution_count": 14,
     "metadata": {},
     "output_type": "execute_result"
    }
   ],
   "source": [
    "'''Il p_value risulta superiore a quello atteso, quindi il livello di confidenza delle due noin è accettabile-> non hanno la stessa media'''"
   ]
  },
  {
   "cell_type": "code",
   "execution_count": 27,
   "id": "80ca675a",
   "metadata": {},
   "outputs": [
    {
     "data": {
      "text/plain": [
       "(array([0.0009609 , 0.        , 0.        , 0.        , 0.        ,\n",
       "        0.        , 0.        , 0.        , 0.        , 0.        ,\n",
       "        0.        , 0.        , 0.        , 0.0009609 , 0.0009609 ,\n",
       "        0.        , 0.        , 0.0009609 , 0.0009609 , 0.        ,\n",
       "        0.0009609 , 0.        , 0.        , 0.        , 0.        ,\n",
       "        0.        , 0.        , 0.0009609 , 0.0009609 , 0.        ,\n",
       "        0.        , 0.        , 0.0009609 , 0.        , 0.0019218 ,\n",
       "        0.0038436 , 0.0009609 , 0.0009609 , 0.0019218 , 0.0048045 ,\n",
       "        0.0028827 , 0.0019218 , 0.0019218 , 0.0048045 , 0.0048045 ,\n",
       "        0.0048045 , 0.0076872 , 0.0038436 , 0.0038436 , 0.0057654 ,\n",
       "        0.0038436 , 0.0057654 , 0.0067263 , 0.0038436 , 0.00864811,\n",
       "        0.0067263 , 0.00864811, 0.0048045 , 0.0028827 , 0.0048045 ,\n",
       "        0.0019218 , 0.0019218 , 0.0019218 , 0.0048045 , 0.0028827 ,\n",
       "        0.0019218 , 0.0048045 , 0.0067263 , 0.0028827 , 0.0057654 ,\n",
       "        0.0038436 , 0.0057654 , 0.00864811, 0.0067263 , 0.0009609 ,\n",
       "        0.0048045 , 0.0038436 , 0.0028827 , 0.0057654 , 0.0009609 ,\n",
       "        0.0048045 , 0.0038436 , 0.0028827 , 0.0019218 , 0.0009609 ,\n",
       "        0.0028827 , 0.0019218 , 0.0019218 , 0.0009609 , 0.        ,\n",
       "        0.0009609 , 0.0019218 , 0.        , 0.        , 0.0009609 ,\n",
       "        0.0009609 , 0.        , 0.        , 0.        , 0.0019218 ]),\n",
       " array([382.133  , 386.46921, 390.80542, 395.14163, 399.47784, 403.81405,\n",
       "        408.15026, 412.48647, 416.82268, 421.15889, 425.4951 , 429.83131,\n",
       "        434.16752, 438.50373, 442.83994, 447.17615, 451.51236, 455.84857,\n",
       "        460.18478, 464.52099, 468.8572 , 473.19341, 477.52962, 481.86583,\n",
       "        486.20204, 490.53825, 494.87446, 499.21067, 503.54688, 507.88309,\n",
       "        512.2193 , 516.55551, 520.89172, 525.22793, 529.56414, 533.90035,\n",
       "        538.23656, 542.57277, 546.90898, 551.24519, 555.5814 , 559.91761,\n",
       "        564.25382, 568.59003, 572.92624, 577.26245, 581.59866, 585.93487,\n",
       "        590.27108, 594.60729, 598.9435 , 603.27971, 607.61592, 611.95213,\n",
       "        616.28834, 620.62455, 624.96076, 629.29697, 633.63318, 637.96939,\n",
       "        642.3056 , 646.64181, 650.97802, 655.31423, 659.65044, 663.98665,\n",
       "        668.32286, 672.65907, 676.99528, 681.33149, 685.6677 , 690.00391,\n",
       "        694.34012, 698.67633, 703.01254, 707.34875, 711.68496, 716.02117,\n",
       "        720.35738, 724.69359, 729.0298 , 733.36601, 737.70222, 742.03843,\n",
       "        746.37464, 750.71085, 755.04706, 759.38327, 763.71948, 768.05569,\n",
       "        772.3919 , 776.72811, 781.06432, 785.40053, 789.73674, 794.07295,\n",
       "        798.40916, 802.74537, 807.08158, 811.41779, 815.754  ]),\n",
       " [<matplotlib.patches.Polygon at 0x212e9b7f430>])"
      ]
     },
     "execution_count": 27,
     "metadata": {},
     "output_type": "execute_result"
    },
    {
     "data": {
      "image/png": "[encoded data removed]",
      "text/plain": [
       "<Figure size 432x288 with 1 Axes>"
      ]
     },
     "metadata": {
      "needs_background": "light"
     },
     "output_type": "display_data"
    }
   ],
   "source": [
    "plt.hist(set1, bins=100, density=True, histtype=\"step\")"
   ]
  },
  {
   "cell_type": "code",
   "execution_count": 26,
   "id": "832b4abc",
   "metadata": {},
   "outputs": [
    {
     "data": {
      "text/plain": [
       "(array([0.00043734, 0.        , 0.        , 0.        , 0.        ,\n",
       "        0.        , 0.        , 0.        , 0.        , 0.00043734,\n",
       "        0.00043734, 0.        , 0.        , 0.00043734, 0.        ,\n",
       "        0.00043734, 0.        , 0.00087469, 0.00043734, 0.00043734,\n",
       "        0.00218672, 0.00218672, 0.00131203, 0.00437344, 0.0039361 ,\n",
       "        0.00524813, 0.00262407, 0.00481079, 0.00568548, 0.00437344,\n",
       "        0.0039361 , 0.00437344, 0.00349875, 0.00349875, 0.00043734,\n",
       "        0.00568548, 0.00481079, 0.0039361 , 0.00830954, 0.00568548,\n",
       "        0.00306141, 0.00349875, 0.00349875, 0.00437344, 0.00218672,\n",
       "        0.00218672, 0.00043734, 0.00043734, 0.        , 0.00043734]),\n",
       " array([345.294 , 354.8212, 364.3484, 373.8756, 383.4028, 392.93  ,\n",
       "        402.4572, 411.9844, 421.5116, 431.0388, 440.566 , 450.0932,\n",
       "        459.6204, 469.1476, 478.6748, 488.202 , 497.7292, 507.2564,\n",
       "        516.7836, 526.3108, 535.838 , 545.3652, 554.8924, 564.4196,\n",
       "        573.9468, 583.474 , 593.0012, 602.5284, 612.0556, 621.5828,\n",
       "        631.11  , 640.6372, 650.1644, 659.6916, 669.2188, 678.746 ,\n",
       "        688.2732, 697.8004, 707.3276, 716.8548, 726.382 , 735.9092,\n",
       "        745.4364, 754.9636, 764.4908, 774.018 , 783.5452, 793.0724,\n",
       "        802.5996, 812.1268, 821.654 ]),\n",
       " [<matplotlib.patches.Polygon at 0x212e8b40e20>])"
      ]
     },
     "execution_count": 26,
     "metadata": {},
     "output_type": "execute_result"
    },
    {
     "data": {
      "image/png": "[encoded data removed]",
      "text/plain": [
       "<Figure size 432x288 with 1 Axes>"
      ]
     },
     "metadata": {
      "needs_background": "light"
     },
     "output_type": "display_data"
    }
   ],
   "source": [
    " plt.hist(set2, bins=50, density=True, histtype=\"step\")"
   ]
  },
  {
   "cell_type": "code",
   "execution_count": 29,
   "id": "6e6d1348",
   "metadata": {},
   "outputs": [
    {
     "data": {
      "text/plain": [
       "[<matplotlib.lines.Line2D at 0x212e9d311c0>]"
      ]
     },
     "execution_count": 29,
     "metadata": {},
     "output_type": "execute_result"
    },
    {
     "data": {
      "image/png": "[encoded data removed]",
      "text/plain": [
       "<Figure size 432x288 with 1 Axes>"
      ]
     },
     "metadata": {
      "needs_background": "light"
     },
     "output_type": "display_data"
    }
   ],
   "source": [
    "xmin=np.min(strength.Y)\n",
    "xmax=np.max(strength.Y)\n",
    "\n",
    "x= np.linspace(xmin, xmax, 101)\n",
    "y1=np.sort(set1)\n",
    "y2=np.sort(set2)\n",
    "\n",
    "idx1=[i/len(y1) for i in range(len(y1))]\n",
    "idx2=[i/len(y2) for i in range(len(y2))]\n",
    "\n",
    "plt.xlabel('Y')\n",
    "plt.ylabel('Cumulative Frequency')\n",
    "plt.plot(y1,idx1,label=\"Set 1\")\n",
    "plt.plot(y2,idx2,label=\"Set 2\")"
   ]
  },
  {
   "cell_type": "code",
   "execution_count": 30,
   "id": "603bbbc9",
   "metadata": {},
   "outputs": [
    {
     "data": {
      "text/plain": [
       "(0.13333333333333333, 0.027951112440957247)"
      ]
     },
     "execution_count": 30,
     "metadata": {},
     "output_type": "execute_result"
    }
   ],
   "source": [
    "D,p_value=scipy.stats.ks_2samp(set1,set2)\n",
    "D,p_value"
   ]
  },
  {
   "cell_type": "code",
   "execution_count": 32,
   "id": "c46acfbc",
   "metadata": {},
   "outputs": [
    {
     "data": {
      "text/plain": [
       "(0.11666666666666667, 0.0762164123247012)"
      ]
     },
     "execution_count": 32,
     "metadata": {},
     "output_type": "execute_result"
    }
   ],
   "source": [
    "set1=strength[strength[\"X2\"]==1.].Y\n",
    "set2=strength[strength[\"X2\"]==-1.].Y\n",
    "scipy.stats.ks_2samp(set1,set2)\n",
    "\n",
    "D,p_value=scipy.stats.ks_2samp(set1,set2)\n"
   ]
  },
  {
   "cell_type": "code",
   "execution_count": 34,
   "id": "0b75f264",
   "metadata": {},
   "outputs": [
    {
     "data": {
      "text/plain": [
       "Ttest_indResult(statistic=1.4399087075483248, pvalue=0.1505478226965297)"
      ]
     },
     "execution_count": 34,
     "metadata": {},
     "output_type": "execute_result"
    }
   ],
   "source": [
    "scipy.stats.ttest_ind(set1,set2)\n"
   ]
  },
  {
   "cell_type": "code",
   "execution_count": 35,
   "id": "61f58b20",
   "metadata": {},
   "outputs": [
    {
     "data": {
      "text/plain": [
       "<matplotlib.legend.Legend at 0x212e9d80dc0>"
      ]
     },
     "execution_count": 35,
     "metadata": {},
     "output_type": "execute_result"
    },
    {
     "data": {
      "image/png": "[encoded data removed]",
      "text/plain": [
       "<Figure size 432x288 with 1 Axes>"
      ]
     },
     "metadata": {
      "needs_background": "light"
     },
     "output_type": "display_data"
    }
   ],
   "source": [
    "k1, loc, x_1=scipy.stats.weibull_min.fit(set1, floc=0)\n",
    "W1=scipy.stats.weibull_min(k1,loc=0, scale=x_1) \n",
    "\n",
    "xmin=np.min(strength.Y)\n",
    "xmax=np.max(strength.Y)\n",
    "x = np.linspace(xmin,xmax,101)\n",
    "y1=np.sort(set1)\n",
    "idx1 = [ i/len(y1) for i in range(len(y1))]\n",
    "plt.xlabel('Y')\n",
    "plt.ylabel('Cumulative Frequency')\n",
    "plt.plot(y1,idx1,label=\"Set 1\")\n",
    "plt.plot(x, W1.cdf(x), label=\"Fit\", color=\"black\")\n",
    "plt.legend()"
   ]
  },
  {
   "cell_type": "code",
   "execution_count": null,
   "id": "b0d3dc55",
   "metadata": {},
   "outputs": [],
   "source": []
  }
 ],
 "metadata": {
  "kernelspec": {
   "display_name": "Python 3 (ipykernel)",
   "language": "python",
   "name": "python3"
  },
  "language_info": {
   "codemirror_mode": {
    "name": "ipython",
    "version": 3
   },
   "file_extension": ".py",
   "mimetype": "text/x-python",
   "name": "python",
   "nbconvert_exporter": "python",
   "pygments_lexer": "ipython3",
   "version": "3.9.12"
  }
 },
 "nbformat": 4,
 "nbformat_minor": 5
}
